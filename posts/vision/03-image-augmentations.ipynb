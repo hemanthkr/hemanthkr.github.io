{
 "cells": [
  {
   "cell_type": "markdown",
   "metadata": {},
   "source": [
    "---\n",
    "title: \"Image Augmentation | Log #003\"\n",
    "description: \"Resize, Crop, Rotate, Flip...\"\n",
    "date: 2025-01-03\n",
    "author: \"Hemanth KR\"\n",
    "categories: [Vision]\n",
    "image: \"thumbnails/003.jpg\"\n",
    "---"
   ]
  },
  {
   "cell_type": "markdown",
   "metadata": {},
   "source": [
    "Image augmentation techniques are very useful in various computer vision tasks. They are used to achieve several objectives like improving model performance, expanding limited datasets, etc. Let's look at how this is achieved before looking at types of augmentations."
   ]
  },
  {
   "cell_type": "markdown",
   "metadata": {},
   "source": [
    "## Reasons to Augment\n",
    "\n",
    "(@) #### Prevent overfitting - \n",
    "    By creating variations of original images, the model gets exposed to wider reange of possible inputs, making it more generalizable.\n",
    "\n",
    "(@) #### Expanding Datasets - \n",
    "    When working with small datasets, augmentation can increase the size of the training data. This is useful in deep learning as models generally need a large amount of data to perform better.\n",
    "\n",
    "(@) #### Real-world challenges -  \n",
    "    Image recognition task often face challenges like occulusion, light intensity and different angles. This can be introduced to the model at training stages with augmentation so the model can learn to perform under difficulties."
   ]
  },
  {
   "cell_type": "markdown",
   "metadata": {},
   "source": [
    "While this is benificial, the effectiveness of image augmentation should be carefully chosen depending on the specific task. It could potentially reduce the model performance in some cases when the image augmentation technique is not selected appropriately."
   ]
  },
  {
   "cell_type": "markdown",
   "metadata": {},
   "source": [
    "## Types of Augmentation\n",
    "\n",
    "Common image augmentation techniques are as follows:\n",
    "\n",
    " - Horizontal and vertical flipping, rotating by various angles, increasing or decreasing image size, random selection and resizing portions of the image, randomly altering color channels, converting to grayscale, applying Gaussian noise, blurring techniques and so on."
   ]
  },
  {
   "cell_type": "markdown",
   "metadata": {},
   "source": [
    "There are many ways to implement these techniques, I am going to be using PyTorch to show a few methods.\n",
    "\n",
    "```python\n",
    "from torchvision import transforms\n",
    "\n",
    "# Resize an image\n",
    "resize = transforms.Resize((32, 32))\n",
    "resized_img = resize(img)\n",
    "\n",
    "# Rotate an image\n",
    "rotate = transforms.RandomRotation(degrees=90)\n",
    "rotated_img = rotate(img)\n",
    "```"
   ]
  },
  {
   "cell_type": "markdown",
   "metadata": {},
   "source": [
    "We can also chain multiple transforms in PyTorch and apply it to our DataLoader class.\n",
    "\n",
    "\n",
    "```python\n",
    "from torchvision import transforms\n",
    "\n",
    "transform = transforms.Compose([\n",
    "    transforms.Resize(256),\n",
    "    transforms.CenterCrop(224),\n",
    "    transforms.RandomHorizontalFlip(p=0.5),\n",
    "    transforms.ToTensor()\n",
    "])\n",
    "```\n",
    "\n",
    "In the above example we have chained the transforms using `Compose` and converted the image to a PyTorch tensor to prepare the image data in a PyTorch optimized format to ensure compatability."
   ]
  },
  {
   "cell_type": "markdown",
   "metadata": {},
   "source": [
    "In the next blog we'll look at Neural Networks and how they learn using this image data."
   ]
  },
  {
   "cell_type": "markdown",
   "metadata": {},
   "source": []
  }
 ],
 "metadata": {
  "language_info": {
   "name": "python"
  }
 },
 "nbformat": 4,
 "nbformat_minor": 2
}
