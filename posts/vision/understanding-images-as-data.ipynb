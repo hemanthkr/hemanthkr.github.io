{
 "cells": [
  {
   "cell_type": "markdown",
   "metadata": {},
   "source": [
    "---\n",
    "title: \"Understanding Images as Data | Log #002\"\n",
    "description: \"What is an image ?\"\n",
    "date: 2025-01-02\n",
    "author: \"Hemanth KR\"\n",
    "categories: [Vision]\n",
    "draft: true\n",
    "---"
   ]
  }
 ],
 "metadata": {
  "language_info": {
   "name": "python"
  }
 },
 "nbformat": 4,
 "nbformat_minor": 2
}
