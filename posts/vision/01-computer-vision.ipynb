{
 "cells": [
  {
   "cell_type": "markdown",
   "metadata": {},
   "source": [
    "---\n",
    "title: \"Computer Vision | Log #001\"\n",
    "description: \"An introduction to CV\"\n",
    "date: 2025-01-01\n",
    "author: \"Hemanth KR\"\n",
    "categories: [Vision]\n",
    "image: \"thumbnails/001.jpg\"\n",
    "---"
   ]
  },
  {
   "cell_type": "markdown",
   "metadata": {},
   "source": [
    "## Introduction\n",
    "\n",
    "Computer Vision refers to teaching machines to understand and extract information from images and video. There has been research dating back to 1960s to extract contextual information from a visual input and it is a good read for those who are interested. For now let's stick to understanding the modern approach that started with the breakthrough in 2012. AlexNet introduced in 2012 used Convolutional Neural Networks to solve image recognition with a significantly higher accuracy."
   ]
  },
  {
   "cell_type": "markdown",
   "metadata": {},
   "source": [
    "## Computer Vision vs Image Processing\n",
    "\n",
    "But before we get ahead of ourself, let's understand what is the difference between traditional image processing and computer vision. Although they are related fields they differ in their approach and objectives."
   ]
  },
  {
   "cell_type": "markdown",
   "metadata": {},
   "source": [
    "::::{layout-ncol=2}\n",
    "\n",
    ":::{.left}\n",
    "\n",
    "### Image Processing\n",
    "* Pixel level operations to manipulate and enhance images\n",
    "* Filtering, color adjustments, transformations\n",
    "* Works at lower level of abstraction with pixel-level features\n",
    "* Does not involve learning from data and less demanding\n",
    "\n",
    ":::\n",
    "\n",
    ":::{.right}\n",
    "\n",
    "### Computer Vision\n",
    "* Analysing image content and extract meaningful insights\n",
    "* Object Recognition, Segmentation, Tracking\n",
    "* Higher level of abstraction, analyzing contents of the image\n",
    "* Learning features and patterns from datasets and requires large resources\n",
    "\n",
    "\n",
    ":::\n",
    "\n",
    ":::"
   ]
  },
  {
   "cell_type": "markdown",
   "metadata": {},
   "source": [
    "## Applications\n",
    "\n",
    "Some of the main applications of computer vision are as follows:\n",
    "\n",
    "1. Image Classification\n",
    "2. Object Detection\n",
    "3. Semantic Segmentation\n",
    "4. Instance Segmentation\n",
    "5. Pose Estimation\n",
    "6. Face and Person Recognition\n",
    "7. Image Restoration"
   ]
  },
  {
   "cell_type": "markdown",
   "metadata": {},
   "source": [
    "## Challenges\n",
    "\n",
    "There are many challenges in computer vision that we are yet to overcome such as accuiring accurate large datasets that are labelled, removing bias in datasets, choosing the right architecture for a model, real-time processing and optimizing the computational requirements, etc.\n",
    "\n",
    "We will work on getting a deeper understanding into this field in the future blogs."
   ]
  }
 ],
 "metadata": {
  "language_info": {
   "name": "python"
  }
 },
 "nbformat": 4,
 "nbformat_minor": 2
}
