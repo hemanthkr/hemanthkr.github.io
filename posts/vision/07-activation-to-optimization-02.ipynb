{
 "cells": [
  {
   "cell_type": "markdown",
   "metadata": {},
   "source": [
    "---\n",
    "title: \"Activation to Optimization - Part 2 | Log #007\"\n",
    "description: \"Understanding the building blocks of neural networks\"\n",
    "date: 2025-01-28\n",
    "author: \"Hemanth KR\"\n",
    "categories: [Vision]\n",
    "image: \"thumbnails/007.jpg\"\n",
    "draft: true\n",
    "---"
   ]
  },
  {
   "cell_type": "markdown",
   "metadata": {},
   "source": [
    "## Loss Functions\n",
    "\n",
    "Loss functions in deep learning are used to quantify how the model is performing. It calculates the error between model's predicted values and the actual target values. The aim is to improve the model's performance by adjusting the parameters in the direction that minimizes the loss and improves predictive accuracy. Broadly there are two main types of loss functions - Regression Loss functions and Classification Loss functions."
   ]
  },
  {
   "cell_type": "markdown",
   "metadata": {},
   "source": [
    "### Regression Loss Functions\n",
    "\n",
    "(@) Mean Absolute Error (MAE) - \n",
    "\n",
    "(@) Mean Squared Error (MSE) - \n",
    "\n",
    "(@) Huber Loss - "
   ]
  },
  {
   "cell_type": "markdown",
   "metadata": {},
   "source": [
    "### Classification Loss Functions\n",
    "\n",
    "(@) Binary Cross-Entropy Loss -  \n",
    "\n",
    "(@) Categorical Cross-Entropy Loss - "
   ]
  }
 ],
 "metadata": {
  "language_info": {
   "name": "python"
  }
 },
 "nbformat": 4,
 "nbformat_minor": 2
}
