{
 "cells": [
  {
   "cell_type": "markdown",
   "metadata": {},
   "source": [
    "---\n",
    "title: \"Neural Networks in PyTorch | Log #004\"\n",
    "description: \"Let's build a simple NN in PyTorch\"\n",
    "date: 2025-01-04\n",
    "author: \"Hemanth KR\"\n",
    "categories: [Vision, PyTorch]\n",
    "image: \"thumbnails/004.jpg\"\n",
    "draft: true\n",
    "---"
   ]
  },
  {
   "cell_type": "markdown",
   "metadata": {},
   "source": []
  }
 ],
 "metadata": {
  "language_info": {
   "name": "python"
  }
 },
 "nbformat": 4,
 "nbformat_minor": 2
}
