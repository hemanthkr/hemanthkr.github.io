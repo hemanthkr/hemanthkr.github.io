{
 "cells": [
  {
   "cell_type": "markdown",
   "metadata": {},
   "source": [
    "---\n",
    "title: \"Understanding Images as Data | Log #002\"\n",
    "description: \"What is an image ?\"\n",
    "date: 2025-01-02\n",
    "author: \"Hemanth KR\"\n",
    "categories: [Vision]\n",
    "image: \"thumbnails/002.jpg\"\n",
    "---"
   ]
  },
  {
   "cell_type": "markdown",
   "metadata": {},
   "source": [
    "## Introduction\n",
    "\n",
    "An image is a grid of tiny squares called pixels. Each pixel is a single point of colour in the image. The resolution of an image is basically group of pixels arranged in a grid format. *n x n* is basically the number of pixels in an image represented as *n* rows and columns. "
   ]
  },
  {
   "cell_type": "markdown",
   "metadata": {},
   "source": [
    "## Representation of Color Spaces\n",
    "\n",
    "Images are described in different color spaces. We will only look at some important ways to represent images that are useful for machine learning tasks."
   ]
  },
  {
   "cell_type": "markdown",
   "metadata": {},
   "source": [
    "(@) #### RGB (Red, Green, Blue)\n",
    "\n",
    "    RBG is the most common way to store pixel values. Each pixel contains 3 numbers between the values of 0-255. For example, red would be (255, 0, 0).\n",
    "\n",
    "(@) #### Grayscale\n",
    "\n",
    "    Grayscale images are represented using a single number per pixel between 0-255. 0 represents black, 255 represents white and the values in between are different shades of grey.\n",
    "\n",
    "(@) #### HSV (Hue, Saturation, Value)\n",
    "\n",
    "    HSV separates the color and intensity information in a way that's more intuitive. There are many formats that are used to represent HSV, the standard format is as follows:\n",
    "    * Hue - ranges from 0^o^ to 360^o^ and represents the color type\n",
    "    * Saturation - ranges from 0% (no color, grayscale) - 100% (pure color) and represents the intensity of the color\n",
    "    * Value - ranges from 0% - 100% and represents the brightness of the color\n",
    "\n",
    "\n",
    "\n"
   ]
  },
  {
   "cell_type": "markdown",
   "metadata": {},
   "source": [
    "In the interest of keeping these blogs short, we will stop here and discuss diffent ways of image manipulation in the next ones."
   ]
  }
 ],
 "metadata": {
  "language_info": {
   "name": "python"
  }
 },
 "nbformat": 4,
 "nbformat_minor": 2
}
